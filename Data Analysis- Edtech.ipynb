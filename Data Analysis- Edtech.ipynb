{
 "cells": [
  {
   "cell_type": "markdown",
   "id": "0355f17d",
   "metadata": {},
   "source": [
    "## ASSIGNMENT -COMPETISHUN "
   ]
  },
  {
   "cell_type": "markdown",
   "id": "b7a1ff50",
   "metadata": {},
   "source": [
    "#### Required Libraries"
   ]
  },
  {
   "cell_type": "code",
   "execution_count": 1,
   "id": "c3706568",
   "metadata": {},
   "outputs": [],
   "source": [
    "import numpy as np\n",
    "import pandas as pd\n",
    "import seaborn as sns\n",
    "import matplotlib.pyplot as plt\n",
    "import warnings\n",
    "warnings.filterwarnings('ignore')"
   ]
  },
  {
   "cell_type": "markdown",
   "id": "33364367",
   "metadata": {},
   "source": [
    "#### Importing Datasets"
   ]
  },
  {
   "cell_type": "code",
   "execution_count": 2,
   "id": "f80e4f4b",
   "metadata": {},
   "outputs": [],
   "source": [
    "l_basic=pd.read_csv(r\"D:\\Data Analysis-competishun\\leads_basic_details.csv\")\n",
    "l_demo=pd.read_csv(r\"D:\\Data Analysis-competishun\\leads_demo_watched_details.csv\")\n",
    "l_inter=pd.read_csv(r\"D:\\Data Analysis-competishun\\leads_interaction_details.csv\")\n",
    "l_reasons=pd.read_csv(r\"D:\\Data Analysis-competishun\\leads_reasons_for_no_interest.csv\")\n",
    "l_sales=pd.read_csv(r\"D:\\Data Analysis-competishun\\sales_managers_assigned_leads_details.csv\")"
   ]
  },
  {
   "cell_type": "markdown",
   "id": "bf2e6003",
   "metadata": {},
   "source": [
    "### leads_basic_details"
   ]
  },
  {
   "cell_type": "code",
   "execution_count": 3,
   "id": "3c21c23a",
   "metadata": {},
   "outputs": [
    {
     "data": {
      "text/html": [
       "<div>\n",
       "<style scoped>\n",
       "    .dataframe tbody tr th:only-of-type {\n",
       "        vertical-align: middle;\n",
       "    }\n",
       "\n",
       "    .dataframe tbody tr th {\n",
       "        vertical-align: top;\n",
       "    }\n",
       "\n",
       "    .dataframe thead th {\n",
       "        text-align: right;\n",
       "    }\n",
       "</style>\n",
       "<table border=\"1\" class=\"dataframe\">\n",
       "  <thead>\n",
       "    <tr style=\"text-align: right;\">\n",
       "      <th></th>\n",
       "      <th>lead_id</th>\n",
       "      <th>age</th>\n",
       "      <th>gender</th>\n",
       "      <th>current_city</th>\n",
       "      <th>current_education</th>\n",
       "      <th>parent_occupation</th>\n",
       "      <th>lead_gen_source</th>\n",
       "    </tr>\n",
       "  </thead>\n",
       "  <tbody>\n",
       "    <tr>\n",
       "      <th>0</th>\n",
       "      <td>USR1001</td>\n",
       "      <td>16</td>\n",
       "      <td>FEMALE</td>\n",
       "      <td>Hyderabad</td>\n",
       "      <td>Intermediate</td>\n",
       "      <td>Private Employee</td>\n",
       "      <td>social_media</td>\n",
       "    </tr>\n",
       "    <tr>\n",
       "      <th>1</th>\n",
       "      <td>USR1002</td>\n",
       "      <td>20</td>\n",
       "      <td>MALE</td>\n",
       "      <td>Bengaluru</td>\n",
       "      <td>B.Tech</td>\n",
       "      <td>Business</td>\n",
       "      <td>user_referrals</td>\n",
       "    </tr>\n",
       "    <tr>\n",
       "      <th>2</th>\n",
       "      <td>USR1003</td>\n",
       "      <td>20</td>\n",
       "      <td>FEMALE</td>\n",
       "      <td>Visakhapatnam</td>\n",
       "      <td>B.Tech</td>\n",
       "      <td>Lawyer</td>\n",
       "      <td>user_referrals</td>\n",
       "    </tr>\n",
       "    <tr>\n",
       "      <th>3</th>\n",
       "      <td>USR1004</td>\n",
       "      <td>16</td>\n",
       "      <td>MALE</td>\n",
       "      <td>Mumbai</td>\n",
       "      <td>Intermediate</td>\n",
       "      <td>IT Employee</td>\n",
       "      <td>user_referrals</td>\n",
       "    </tr>\n",
       "    <tr>\n",
       "      <th>4</th>\n",
       "      <td>USR1005</td>\n",
       "      <td>16</td>\n",
       "      <td>MALE</td>\n",
       "      <td>Chennai</td>\n",
       "      <td>Intermediate</td>\n",
       "      <td>Government Employee</td>\n",
       "      <td>user_referrals</td>\n",
       "    </tr>\n",
       "    <tr>\n",
       "      <th>...</th>\n",
       "      <td>...</td>\n",
       "      <td>...</td>\n",
       "      <td>...</td>\n",
       "      <td>...</td>\n",
       "      <td>...</td>\n",
       "      <td>...</td>\n",
       "      <td>...</td>\n",
       "    </tr>\n",
       "    <tr>\n",
       "      <th>355</th>\n",
       "      <td>USR1356</td>\n",
       "      <td>21</td>\n",
       "      <td>MALE</td>\n",
       "      <td>Mumbai</td>\n",
       "      <td>Degree</td>\n",
       "      <td>Government Employee</td>\n",
       "      <td>user_referrals</td>\n",
       "    </tr>\n",
       "    <tr>\n",
       "      <th>356</th>\n",
       "      <td>USR1357</td>\n",
       "      <td>22</td>\n",
       "      <td>MALE</td>\n",
       "      <td>Chennai</td>\n",
       "      <td>Looking for Job</td>\n",
       "      <td>Government Employee</td>\n",
       "      <td>website</td>\n",
       "    </tr>\n",
       "    <tr>\n",
       "      <th>357</th>\n",
       "      <td>USR1358</td>\n",
       "      <td>25</td>\n",
       "      <td>MALE</td>\n",
       "      <td>Chennai</td>\n",
       "      <td>B.Tech</td>\n",
       "      <td>Government Employee</td>\n",
       "      <td>SEO</td>\n",
       "    </tr>\n",
       "    <tr>\n",
       "      <th>358</th>\n",
       "      <td>USR1359</td>\n",
       "      <td>18</td>\n",
       "      <td>FEMALE</td>\n",
       "      <td>Mumbai</td>\n",
       "      <td>B.Tech</td>\n",
       "      <td>Government Employee</td>\n",
       "      <td>email_marketing</td>\n",
       "    </tr>\n",
       "    <tr>\n",
       "      <th>359</th>\n",
       "      <td>USR1360</td>\n",
       "      <td>16</td>\n",
       "      <td>MALE</td>\n",
       "      <td>Mumbai</td>\n",
       "      <td>Intermediate</td>\n",
       "      <td>Government Employee</td>\n",
       "      <td>social_media</td>\n",
       "    </tr>\n",
       "  </tbody>\n",
       "</table>\n",
       "<p>360 rows × 7 columns</p>\n",
       "</div>"
      ],
      "text/plain": [
       "     lead_id  age  gender   current_city current_education  \\\n",
       "0    USR1001   16  FEMALE      Hyderabad      Intermediate   \n",
       "1    USR1002   20    MALE      Bengaluru            B.Tech   \n",
       "2    USR1003   20  FEMALE  Visakhapatnam            B.Tech   \n",
       "3    USR1004   16    MALE         Mumbai      Intermediate   \n",
       "4    USR1005   16    MALE        Chennai      Intermediate   \n",
       "..       ...  ...     ...            ...               ...   \n",
       "355  USR1356   21    MALE         Mumbai            Degree   \n",
       "356  USR1357   22    MALE        Chennai   Looking for Job   \n",
       "357  USR1358   25    MALE        Chennai            B.Tech   \n",
       "358  USR1359   18  FEMALE         Mumbai            B.Tech   \n",
       "359  USR1360   16    MALE         Mumbai      Intermediate   \n",
       "\n",
       "       parent_occupation  lead_gen_source  \n",
       "0       Private Employee     social_media  \n",
       "1               Business   user_referrals  \n",
       "2                 Lawyer   user_referrals  \n",
       "3            IT Employee   user_referrals  \n",
       "4    Government Employee   user_referrals  \n",
       "..                   ...              ...  \n",
       "355  Government Employee   user_referrals  \n",
       "356  Government Employee          website  \n",
       "357  Government Employee              SEO  \n",
       "358  Government Employee  email_marketing  \n",
       "359  Government Employee     social_media  \n",
       "\n",
       "[360 rows x 7 columns]"
      ]
     },
     "execution_count": 3,
     "metadata": {},
     "output_type": "execute_result"
    }
   ],
   "source": [
    "l_basic"
   ]
  },
  {
   "cell_type": "code",
   "execution_count": 4,
   "id": "0a25c877",
   "metadata": {},
   "outputs": [
    {
     "name": "stdout",
     "output_type": "stream",
     "text": [
      "<class 'pandas.core.frame.DataFrame'>\n",
      "RangeIndex: 360 entries, 0 to 359\n",
      "Data columns (total 7 columns):\n",
      " #   Column             Non-Null Count  Dtype \n",
      "---  ------             --------------  ----- \n",
      " 0   lead_id            360 non-null    object\n",
      " 1   age                360 non-null    int64 \n",
      " 2   gender             360 non-null    object\n",
      " 3   current_city       360 non-null    object\n",
      " 4   current_education  360 non-null    object\n",
      " 5   parent_occupation  360 non-null    object\n",
      " 6   lead_gen_source    360 non-null    object\n",
      "dtypes: int64(1), object(6)\n",
      "memory usage: 19.8+ KB\n"
     ]
    }
   ],
   "source": [
    "#info\n",
    "\n",
    "l_basic.info()"
   ]
  },
  {
   "cell_type": "code",
   "execution_count": 5,
   "id": "b36464f4",
   "metadata": {},
   "outputs": [
    {
     "data": {
      "text/plain": [
       "0"
      ]
     },
     "execution_count": 5,
     "metadata": {},
     "output_type": "execute_result"
    }
   ],
   "source": [
    "#Identifying duplicates\n",
    "l_basic.duplicated().sum()"
   ]
  },
  {
   "cell_type": "code",
   "execution_count": 6,
   "id": "97cc0788",
   "metadata": {},
   "outputs": [
    {
     "data": {
      "text/html": [
       "<div>\n",
       "<style scoped>\n",
       "    .dataframe tbody tr th:only-of-type {\n",
       "        vertical-align: middle;\n",
       "    }\n",
       "\n",
       "    .dataframe tbody tr th {\n",
       "        vertical-align: top;\n",
       "    }\n",
       "\n",
       "    .dataframe thead th {\n",
       "        text-align: right;\n",
       "    }\n",
       "</style>\n",
       "<table border=\"1\" class=\"dataframe\">\n",
       "  <thead>\n",
       "    <tr style=\"text-align: right;\">\n",
       "      <th></th>\n",
       "      <th>age</th>\n",
       "    </tr>\n",
       "  </thead>\n",
       "  <tbody>\n",
       "    <tr>\n",
       "      <th>count</th>\n",
       "      <td>360.000000</td>\n",
       "    </tr>\n",
       "    <tr>\n",
       "      <th>mean</th>\n",
       "      <td>21.561111</td>\n",
       "    </tr>\n",
       "    <tr>\n",
       "      <th>std</th>\n",
       "      <td>11.555444</td>\n",
       "    </tr>\n",
       "    <tr>\n",
       "      <th>min</th>\n",
       "      <td>16.000000</td>\n",
       "    </tr>\n",
       "    <tr>\n",
       "      <th>25%</th>\n",
       "      <td>18.000000</td>\n",
       "    </tr>\n",
       "    <tr>\n",
       "      <th>50%</th>\n",
       "      <td>21.000000</td>\n",
       "    </tr>\n",
       "    <tr>\n",
       "      <th>75%</th>\n",
       "      <td>24.000000</td>\n",
       "    </tr>\n",
       "    <tr>\n",
       "      <th>max</th>\n",
       "      <td>211.000000</td>\n",
       "    </tr>\n",
       "  </tbody>\n",
       "</table>\n",
       "</div>"
      ],
      "text/plain": [
       "              age\n",
       "count  360.000000\n",
       "mean    21.561111\n",
       "std     11.555444\n",
       "min     16.000000\n",
       "25%     18.000000\n",
       "50%     21.000000\n",
       "75%     24.000000\n",
       "max    211.000000"
      ]
     },
     "execution_count": 6,
     "metadata": {},
     "output_type": "execute_result"
    }
   ],
   "source": [
    "#five point summary\n",
    "\n",
    "l_basic.describe()"
   ]
  },
  {
   "cell_type": "code",
   "execution_count": 7,
   "id": "a04da162",
   "metadata": {},
   "outputs": [],
   "source": [
    "#by summary we can infer that age has maximum value 211 which is unrealistic and considered as outlier."
   ]
  },
  {
   "cell_type": "code",
   "execution_count": 8,
   "id": "62208597",
   "metadata": {},
   "outputs": [
    {
     "data": {
      "text/plain": [
       "<AxesSubplot:xlabel='age'>"
      ]
     },
     "execution_count": 8,
     "metadata": {},
     "output_type": "execute_result"
    },
    {
     "data": {
      "image/png": "[encoded data removed]",
      "text/plain": [
       "<Figure size 432x288 with 1 Axes>"
      ]
     },
     "metadata": {
      "needs_background": "light"
     },
     "output_type": "display_data"
    }
   ],
   "source": [
    "sns.boxplot(l_basic.age)\n",
    "#we can observe that we have two outliers in age column"
   ]
  },
  {
   "cell_type": "code",
   "execution_count": 9,
   "id": "440dbc9f",
   "metadata": {},
   "outputs": [],
   "source": [
    "#Removing outliers using iqr method"
   ]
  },
  {
   "cell_type": "code",
   "execution_count": 10,
   "id": "27a185f3",
   "metadata": {},
   "outputs": [],
   "source": [
    "q3=np.quantile(l_basic.age,0.75)\n",
    "q1=np.quantile(l_basic.age,0.25)\n",
    "IQR = q3-q1\n",
    "l_basic= l_basic[~((l_basic.age<(q1-1.5*IQR)) | (l_basic.age>(q3+1.5*IQR)))]"
   ]
  },
  {
   "cell_type": "code",
   "execution_count": 11,
   "id": "9d29c0d2",
   "metadata": {},
   "outputs": [
    {
     "data": {
      "text/html": [
       "<div>\n",
       "<style scoped>\n",
       "    .dataframe tbody tr th:only-of-type {\n",
       "        vertical-align: middle;\n",
       "    }\n",
       "\n",
       "    .dataframe tbody tr th {\n",
       "        vertical-align: top;\n",
       "    }\n",
       "\n",
       "    .dataframe thead th {\n",
       "        text-align: right;\n",
       "    }\n",
       "</style>\n",
       "<table border=\"1\" class=\"dataframe\">\n",
       "  <thead>\n",
       "    <tr style=\"text-align: right;\">\n",
       "      <th></th>\n",
       "      <th>age</th>\n",
       "    </tr>\n",
       "  </thead>\n",
       "  <tbody>\n",
       "    <tr>\n",
       "      <th>count</th>\n",
       "      <td>358.000000</td>\n",
       "    </tr>\n",
       "    <tr>\n",
       "      <th>mean</th>\n",
       "      <td>20.768156</td>\n",
       "    </tr>\n",
       "    <tr>\n",
       "      <th>std</th>\n",
       "      <td>2.852959</td>\n",
       "    </tr>\n",
       "    <tr>\n",
       "      <th>min</th>\n",
       "      <td>16.000000</td>\n",
       "    </tr>\n",
       "    <tr>\n",
       "      <th>25%</th>\n",
       "      <td>18.000000</td>\n",
       "    </tr>\n",
       "    <tr>\n",
       "      <th>50%</th>\n",
       "      <td>21.000000</td>\n",
       "    </tr>\n",
       "    <tr>\n",
       "      <th>75%</th>\n",
       "      <td>24.000000</td>\n",
       "    </tr>\n",
       "    <tr>\n",
       "      <th>max</th>\n",
       "      <td>25.000000</td>\n",
       "    </tr>\n",
       "  </tbody>\n",
       "</table>\n",
       "</div>"
      ],
      "text/plain": [
       "              age\n",
       "count  358.000000\n",
       "mean    20.768156\n",
       "std      2.852959\n",
       "min     16.000000\n",
       "25%     18.000000\n",
       "50%     21.000000\n",
       "75%     24.000000\n",
       "max     25.000000"
      ]
     },
     "execution_count": 11,
     "metadata": {},
     "output_type": "execute_result"
    }
   ],
   "source": [
    "l_basic.describe()"
   ]
  },
  {
   "cell_type": "code",
   "execution_count": 12,
   "id": "0ad9d273",
   "metadata": {},
   "outputs": [
    {
     "data": {
      "text/plain": [
       "(358, 7)"
      ]
     },
     "execution_count": 12,
     "metadata": {},
     "output_type": "execute_result"
    }
   ],
   "source": [
    "l_basic.shape\n",
    "#we had two outliers in the age column"
   ]
  },
  {
   "cell_type": "code",
   "execution_count": 13,
   "id": "f7cd3ad7",
   "metadata": {},
   "outputs": [
    {
     "data": {
      "text/plain": [
       "Index(['lead_id', 'age', 'gender', 'current_city', 'current_education',\n",
       "       'parent_occupation', 'lead_gen_source'],\n",
       "      dtype='object')"
      ]
     },
     "execution_count": 13,
     "metadata": {},
     "output_type": "execute_result"
    }
   ],
   "source": [
    "l_basic.columns"
   ]
  },
  {
   "cell_type": "code",
   "execution_count": 14,
   "id": "1d680637",
   "metadata": {},
   "outputs": [
    {
     "name": "stdout",
     "output_type": "stream",
     "text": [
      "\n",
      " age \n",
      "\n",
      "18    68\n",
      "20    64\n",
      "24    50\n",
      "22    47\n",
      "25    47\n",
      "21    42\n",
      "16    40\n",
      "Name: age, dtype: int64\n",
      "\n",
      " gender \n",
      "\n",
      "FEMALE    198\n",
      "MALE      160\n",
      "Name: gender, dtype: int64\n",
      "\n",
      " current_city \n",
      "\n",
      "Visakhapatnam    76\n",
      "Hyderabad        75\n",
      "Kochi            67\n",
      "Bengaluru        51\n",
      "Mumbai           48\n",
      "Chennai          41\n",
      "Name: current_city, dtype: int64\n",
      "\n",
      " current_education \n",
      "\n",
      "B.Tech                    139\n",
      "Looking for Job           117\n",
      "Degree                     42\n",
      "Intermediate               40\n",
      "Intermediate Completed     12\n",
      "10th Completed              8\n",
      "Name: current_education, dtype: int64\n",
      "\n",
      " parent_occupation \n",
      "\n",
      "Government Employee    128\n",
      "Business                80\n",
      "IT Employee             70\n",
      "Lawyer                  44\n",
      "Private Employee        14\n",
      "Doctor                  11\n",
      "Professor/Faculty       11\n",
      "Name: parent_occupation, dtype: int64\n",
      "\n",
      " lead_gen_source \n",
      "\n",
      "social_media       85\n",
      "SEO                75\n",
      "email_marketing    73\n",
      "user_referrals     66\n",
      "website            59\n",
      "Name: lead_gen_source, dtype: int64\n"
     ]
    }
   ],
   "source": [
    "#showing frequency of values in the different columns\n",
    "\n",
    "col=['age', 'gender', 'current_city', 'current_education',\n",
    "       'parent_occupation', 'lead_gen_source']\n",
    "for i in col:\n",
    "    print('\\n',i,'\\n')\n",
    "    print(l_basic[i].value_counts())"
   ]
  },
  {
   "cell_type": "code",
   "execution_count": 15,
   "id": "678cf5f6",
   "metadata": {},
   "outputs": [],
   "source": [
    "#in the current_education we have intermediate and intermediate completed \n",
    "#therefore, we have to rename one of these values to do more accurate analysis.\n",
    "\n",
    "l_basic['current_education'].replace({'Intermediate Completed':'Intermediate'}, inplace=True)"
   ]
  },
  {
   "cell_type": "code",
   "execution_count": 16,
   "id": "e2202097",
   "metadata": {},
   "outputs": [
    {
     "data": {
      "text/plain": [
       "B.Tech             139\n",
       "Looking for Job    117\n",
       "Intermediate        52\n",
       "Degree              42\n",
       "10th Completed       8\n",
       "Name: current_education, dtype: int64"
      ]
     },
     "execution_count": 16,
     "metadata": {},
     "output_type": "execute_result"
    }
   ],
   "source": [
    "#frequency of values in current education column\n",
    "\n",
    "l_basic['current_education'].value_counts()"
   ]
  },
  {
   "cell_type": "markdown",
   "id": "ef6e5db4",
   "metadata": {},
   "source": [
    "####  VISUALIZATION"
   ]
  },
  {
   "cell_type": "code",
   "execution_count": 17,
   "id": "c8df5c0c",
   "metadata": {},
   "outputs": [
    {
     "data": {
      "image/png": "[encoded data removed]",
      "text/plain": [
       "<Figure size 864x720 with 7 Axes>"
      ]
     },
     "metadata": {
      "needs_background": "light"
     },
     "output_type": "display_data"
    }
   ],
   "source": [
    "cols=l_basic.columns\n",
    "plt.figure(figsize=(12,10))\n",
    "repeator=1\n",
    "\n",
    "for i in cols:\n",
    "    plt.subplot(3,3,repeator)\n",
    "    sns.countplot(y=l_basic[i])\n",
    "    plt.title(i)\n",
    "    repeator=repeator+1\n",
    "\n",
    "plt.tight_layout()\n",
    "plt.show()"
   ]
  },
  {
   "cell_type": "markdown",
   "id": "6f0735ec",
   "metadata": {},
   "source": [
    "###### INFERENCES:"
   ]
  },
  {
   "cell_type": "markdown",
   "id": "efd47624",
   "metadata": {},
   "source": [
    "* the maximum number of leads are between 18 to 24 years old.\n",
    "\n",
    "* there are more number of female leads than male leads.\n",
    "\n",
    "* Maximum leads are from Hyderabad and Visakhapatnam, least from Mumbai and Chennai.\n",
    "\n",
    "* Majority Leads are from B.Tech background and also the leads looking for job.\n",
    "\n",
    "* Majority of the leads parent occupation is government employee.\n",
    "\n",
    "* majority of leads came to know about the firm through social media,SEO and email marketing.\n"
   ]
  },
  {
   "cell_type": "markdown",
   "id": "6978fd6a",
   "metadata": {},
   "source": [
    "### leads_demo_watched_details"
   ]
  },
  {
   "cell_type": "code",
   "execution_count": 18,
   "id": "d03cacd7",
   "metadata": {},
   "outputs": [
    {
     "data": {
      "text/html": [
       "<div>\n",
       "<style scoped>\n",
       "    .dataframe tbody tr th:only-of-type {\n",
       "        vertical-align: middle;\n",
       "    }\n",
       "\n",
       "    .dataframe tbody tr th {\n",
       "        vertical-align: top;\n",
       "    }\n",
       "\n",
       "    .dataframe thead th {\n",
       "        text-align: right;\n",
       "    }\n",
       "</style>\n",
       "<table border=\"1\" class=\"dataframe\">\n",
       "  <thead>\n",
       "    <tr style=\"text-align: right;\">\n",
       "      <th></th>\n",
       "      <th>lead_id</th>\n",
       "      <th>demo_watched_date</th>\n",
       "      <th>language</th>\n",
       "      <th>watched_percentage</th>\n",
       "    </tr>\n",
       "  </thead>\n",
       "  <tbody>\n",
       "    <tr>\n",
       "      <th>0</th>\n",
       "      <td>USR1002</td>\n",
       "      <td>1/4/2022</td>\n",
       "      <td>Telugu</td>\n",
       "      <td>42</td>\n",
       "    </tr>\n",
       "    <tr>\n",
       "      <th>1</th>\n",
       "      <td>USR1003</td>\n",
       "      <td>1/7/2022</td>\n",
       "      <td>Telugu</td>\n",
       "      <td>81</td>\n",
       "    </tr>\n",
       "    <tr>\n",
       "      <th>2</th>\n",
       "      <td>USR1004</td>\n",
       "      <td>1/2/2022</td>\n",
       "      <td>Telugu</td>\n",
       "      <td>35</td>\n",
       "    </tr>\n",
       "    <tr>\n",
       "      <th>3</th>\n",
       "      <td>USR1005</td>\n",
       "      <td>1/3/2022</td>\n",
       "      <td>Hindi</td>\n",
       "      <td>38</td>\n",
       "    </tr>\n",
       "    <tr>\n",
       "      <th>4</th>\n",
       "      <td>USR1006</td>\n",
       "      <td>1/12/2022</td>\n",
       "      <td>Hindi</td>\n",
       "      <td>54</td>\n",
       "    </tr>\n",
       "    <tr>\n",
       "      <th>...</th>\n",
       "      <td>...</td>\n",
       "      <td>...</td>\n",
       "      <td>...</td>\n",
       "      <td>...</td>\n",
       "    </tr>\n",
       "    <tr>\n",
       "      <th>189</th>\n",
       "      <td>USR1317</td>\n",
       "      <td>2/25/2022</td>\n",
       "      <td>English</td>\n",
       "      <td>48</td>\n",
       "    </tr>\n",
       "    <tr>\n",
       "      <th>190</th>\n",
       "      <td>USR1318</td>\n",
       "      <td>2/25/2022</td>\n",
       "      <td>English</td>\n",
       "      <td>83</td>\n",
       "    </tr>\n",
       "    <tr>\n",
       "      <th>191</th>\n",
       "      <td>USR1319</td>\n",
       "      <td>2/28/2022</td>\n",
       "      <td>English</td>\n",
       "      <td>84</td>\n",
       "    </tr>\n",
       "    <tr>\n",
       "      <th>192</th>\n",
       "      <td>USR1343</td>\n",
       "      <td>1/25/2022</td>\n",
       "      <td>English</td>\n",
       "      <td>68</td>\n",
       "    </tr>\n",
       "    <tr>\n",
       "      <th>193</th>\n",
       "      <td>USR1348</td>\n",
       "      <td>2/27/2022</td>\n",
       "      <td>English</td>\n",
       "      <td>72</td>\n",
       "    </tr>\n",
       "  </tbody>\n",
       "</table>\n",
       "<p>194 rows × 4 columns</p>\n",
       "</div>"
      ],
      "text/plain": [
       "     lead_id demo_watched_date language  watched_percentage\n",
       "0    USR1002          1/4/2022   Telugu                  42\n",
       "1    USR1003          1/7/2022   Telugu                  81\n",
       "2    USR1004          1/2/2022   Telugu                  35\n",
       "3    USR1005          1/3/2022    Hindi                  38\n",
       "4    USR1006         1/12/2022    Hindi                  54\n",
       "..       ...               ...      ...                 ...\n",
       "189  USR1317         2/25/2022  English                  48\n",
       "190  USR1318         2/25/2022  English                  83\n",
       "191  USR1319         2/28/2022  English                  84\n",
       "192  USR1343         1/25/2022  English                  68\n",
       "193  USR1348         2/27/2022  English                  72\n",
       "\n",
       "[194 rows x 4 columns]"
      ]
     },
     "execution_count": 18,
     "metadata": {},
     "output_type": "execute_result"
    }
   ],
   "source": [
    "l_demo"
   ]
  },
  {
   "cell_type": "code",
   "execution_count": 19,
   "id": "2b6d17d8",
   "metadata": {},
   "outputs": [
    {
     "name": "stdout",
     "output_type": "stream",
     "text": [
      "<class 'pandas.core.frame.DataFrame'>\n",
      "RangeIndex: 194 entries, 0 to 193\n",
      "Data columns (total 4 columns):\n",
      " #   Column              Non-Null Count  Dtype \n",
      "---  ------              --------------  ----- \n",
      " 0   lead_id             194 non-null    object\n",
      " 1   demo_watched_date   194 non-null    object\n",
      " 2   language            194 non-null    object\n",
      " 3   watched_percentage  194 non-null    int64 \n",
      "dtypes: int64(1), object(3)\n",
      "memory usage: 6.2+ KB\n"
     ]
    }
   ],
   "source": [
    "l_demo.info()\n",
    "\n",
    "#no null values"
   ]
  },
  {
   "cell_type": "code",
   "execution_count": 20,
   "id": "dd84b90c",
   "metadata": {},
   "outputs": [
    {
     "data": {
      "text/html": [
       "<div>\n",
       "<style scoped>\n",
       "    .dataframe tbody tr th:only-of-type {\n",
       "        vertical-align: middle;\n",
       "    }\n",
       "\n",
       "    .dataframe tbody tr th {\n",
       "        vertical-align: top;\n",
       "    }\n",
       "\n",
       "    .dataframe thead th {\n",
       "        text-align: right;\n",
       "    }\n",
       "</style>\n",
       "<table border=\"1\" class=\"dataframe\">\n",
       "  <thead>\n",
       "    <tr style=\"text-align: right;\">\n",
       "      <th></th>\n",
       "      <th>watched_percentage</th>\n",
       "    </tr>\n",
       "  </thead>\n",
       "  <tbody>\n",
       "    <tr>\n",
       "      <th>count</th>\n",
       "      <td>194.000000</td>\n",
       "    </tr>\n",
       "    <tr>\n",
       "      <th>mean</th>\n",
       "      <td>56.634021</td>\n",
       "    </tr>\n",
       "    <tr>\n",
       "      <th>std</th>\n",
       "      <td>43.555635</td>\n",
       "    </tr>\n",
       "    <tr>\n",
       "      <th>min</th>\n",
       "      <td>2.000000</td>\n",
       "    </tr>\n",
       "    <tr>\n",
       "      <th>25%</th>\n",
       "      <td>35.000000</td>\n",
       "    </tr>\n",
       "    <tr>\n",
       "      <th>50%</th>\n",
       "      <td>55.500000</td>\n",
       "    </tr>\n",
       "    <tr>\n",
       "      <th>75%</th>\n",
       "      <td>75.750000</td>\n",
       "    </tr>\n",
       "    <tr>\n",
       "      <th>max</th>\n",
       "      <td>510.000000</td>\n",
       "    </tr>\n",
       "  </tbody>\n",
       "</table>\n",
       "</div>"
      ],
      "text/plain": [
       "       watched_percentage\n",
       "count          194.000000\n",
       "mean            56.634021\n",
       "std             43.555635\n",
       "min              2.000000\n",
       "25%             35.000000\n",
       "50%             55.500000\n",
       "75%             75.750000\n",
       "max            510.000000"
      ]
     },
     "execution_count": 20,
     "metadata": {},
     "output_type": "execute_result"
    }
   ],
   "source": [
    "l_demo.describe()"
   ]
  },
  {
   "cell_type": "code",
   "execution_count": 21,
   "id": "a4d94034",
   "metadata": {},
   "outputs": [],
   "source": [
    "#we can observe that watched_percentage is beyond 100 also which is inaccurate.so we will drop the outlier data\n",
    "l_demo=l_demo[l_demo.watched_percentage<=100]"
   ]
  },
  {
   "cell_type": "code",
   "execution_count": 22,
   "id": "354020d4",
   "metadata": {},
   "outputs": [
    {
     "data": {
      "text/plain": [
       "(192, 4)"
      ]
     },
     "execution_count": 22,
     "metadata": {},
     "output_type": "execute_result"
    }
   ],
   "source": [
    "l_demo.shape\n",
    "#we had two outliers in the watched_percentage column"
   ]
  },
  {
   "cell_type": "code",
   "execution_count": 23,
   "id": "0f8d4dbb",
   "metadata": {},
   "outputs": [],
   "source": [
    "#we can drop demo_watch_date which has more unique and irrelevent records\n",
    "l_demo= l_demo.drop(['demo_watched_date'], axis=1)"
   ]
  },
  {
   "cell_type": "code",
   "execution_count": 24,
   "id": "5bca2011",
   "metadata": {},
   "outputs": [
    {
     "data": {
      "text/plain": [
       "0"
      ]
     },
     "execution_count": 24,
     "metadata": {},
     "output_type": "execute_result"
    }
   ],
   "source": [
    "#Identifying duplicates\n",
    "\n",
    "l_demo.duplicated().sum()"
   ]
  },
  {
   "cell_type": "code",
   "execution_count": 25,
   "id": "6d80dec7",
   "metadata": {},
   "outputs": [
    {
     "data": {
      "text/plain": [
       "Index(['lead_id', 'language', 'watched_percentage'], dtype='object')"
      ]
     },
     "execution_count": 25,
     "metadata": {},
     "output_type": "execute_result"
    }
   ],
   "source": [
    "l_demo.columns"
   ]
  },
  {
   "cell_type": "code",
   "execution_count": 26,
   "id": "155d0bd3",
   "metadata": {},
   "outputs": [
    {
     "name": "stdout",
     "output_type": "stream",
     "text": [
      "\n",
      " language \n",
      "\n",
      "English    111\n",
      "Telugu      61\n",
      "Hindi       20\n",
      "Name: language, dtype: int64\n",
      "\n",
      " watched_percentage \n",
      "\n",
      "80    12\n",
      "44     6\n",
      "70     6\n",
      "65     5\n",
      "75     5\n",
      "      ..\n",
      "30     1\n",
      "64     1\n",
      "37     1\n",
      "66     1\n",
      "84     1\n",
      "Name: watched_percentage, Length: 84, dtype: int64\n"
     ]
    }
   ],
   "source": [
    "#displaying frequency of values in the columns\n",
    "\n",
    "cols1=['language', 'watched_percentage']\n",
    "for i in cols1:\n",
    "    print('\\n',i,'\\n')\n",
    "    print(l_demo[i].value_counts())"
   ]
  },
  {
   "cell_type": "code",
   "execution_count": 27,
   "id": "4c7938d8",
   "metadata": {},
   "outputs": [
    {
     "data": {
      "image/png": "[encoded data removed]",
      "text/plain": [
       "<Figure size 432x288 with 1 Axes>"
      ]
     },
     "metadata": {
      "needs_background": "light"
     },
     "output_type": "display_data"
    }
   ],
   "source": [
    "#visuazation of language column\n",
    "sns.countplot(l_demo['language'])\n",
    "plt.show()"
   ]
  },
  {
   "cell_type": "markdown",
   "id": "0b0033ae",
   "metadata": {},
   "source": [
    "* Majority of the leads watched in English language\n",
    "  \n",
    "  least watched in Hindi language"
   ]
  },
  {
   "cell_type": "code",
   "execution_count": 28,
   "id": "13b6a128",
   "metadata": {},
   "outputs": [
    {
     "data": {
      "image/png": "[encoded data removed]",
      "text/plain": [
       "<Figure size 432x288 with 1 Axes>"
      ]
     },
     "metadata": {
      "needs_background": "light"
     },
     "output_type": "display_data"
    }
   ],
   "source": [
    "#DIstribution of Watched_percentage through visulaization\n",
    "plt.figure(figsize=(6,4))\n",
    "sns.distplot(l_demo['watched_percentage'])\n",
    "plt.show()"
   ]
  },
  {
   "cell_type": "markdown",
   "id": "725ae65b",
   "metadata": {},
   "source": [
    "* Almost 10 leads watched full demo video.\n",
    "\n",
    "  More than 60% of video was covered by majority of the leads."
   ]
  },
  {
   "cell_type": "markdown",
   "id": "786da3cb",
   "metadata": {},
   "source": [
    "### leads_interaction_details"
   ]
  },
  {
   "cell_type": "code",
   "execution_count": 29,
   "id": "c93c649d",
   "metadata": {},
   "outputs": [
    {
     "data": {
      "text/html": [
       "<div>\n",
       "<style scoped>\n",
       "    .dataframe tbody tr th:only-of-type {\n",
       "        vertical-align: middle;\n",
       "    }\n",
       "\n",
       "    .dataframe tbody tr th {\n",
       "        vertical-align: top;\n",
       "    }\n",
       "\n",
       "    .dataframe thead th {\n",
       "        text-align: right;\n",
       "    }\n",
       "</style>\n",
       "<table border=\"1\" class=\"dataframe\">\n",
       "  <thead>\n",
       "    <tr style=\"text-align: right;\">\n",
       "      <th></th>\n",
       "      <th>jnr_sm_id</th>\n",
       "      <th>lead_id</th>\n",
       "      <th>lead_stage</th>\n",
       "      <th>call_done_date</th>\n",
       "      <th>call_status</th>\n",
       "      <th>call_reason</th>\n",
       "    </tr>\n",
       "  </thead>\n",
       "  <tbody>\n",
       "    <tr>\n",
       "      <th>0</th>\n",
       "      <td>JNR1001MG</td>\n",
       "      <td>USR1001</td>\n",
       "      <td>lead</td>\n",
       "      <td>1/2/2022</td>\n",
       "      <td>successful</td>\n",
       "      <td>lead_introduction</td>\n",
       "    </tr>\n",
       "    <tr>\n",
       "      <th>1</th>\n",
       "      <td>JNR1001MG</td>\n",
       "      <td>USR1001</td>\n",
       "      <td>lead</td>\n",
       "      <td>1/2/2022</td>\n",
       "      <td>successful</td>\n",
       "      <td>demo_schedule</td>\n",
       "    </tr>\n",
       "    <tr>\n",
       "      <th>2</th>\n",
       "      <td>JNR1001MG</td>\n",
       "      <td>USR1002</td>\n",
       "      <td>lead</td>\n",
       "      <td>1/3/2022</td>\n",
       "      <td>successful</td>\n",
       "      <td>lead_introduction</td>\n",
       "    </tr>\n",
       "    <tr>\n",
       "      <th>3</th>\n",
       "      <td>JNR1001MG</td>\n",
       "      <td>USR1002</td>\n",
       "      <td>lead</td>\n",
       "      <td>1/4/2022</td>\n",
       "      <td>successful</td>\n",
       "      <td>demo_schedule</td>\n",
       "    </tr>\n",
       "    <tr>\n",
       "      <th>4</th>\n",
       "      <td>JNR1001MG</td>\n",
       "      <td>USR1002</td>\n",
       "      <td>awareness</td>\n",
       "      <td>1/5/2022</td>\n",
       "      <td>successful</td>\n",
       "      <td>post_demo_followup</td>\n",
       "    </tr>\n",
       "    <tr>\n",
       "      <th>...</th>\n",
       "      <td>...</td>\n",
       "      <td>...</td>\n",
       "      <td>...</td>\n",
       "      <td>...</td>\n",
       "      <td>...</td>\n",
       "      <td>...</td>\n",
       "    </tr>\n",
       "    <tr>\n",
       "      <th>2187</th>\n",
       "      <td>JNR1001MG</td>\n",
       "      <td>USR1356</td>\n",
       "      <td>lead</td>\n",
       "      <td>2/21/2022</td>\n",
       "      <td>unsuccessful</td>\n",
       "      <td>lead_introduction</td>\n",
       "    </tr>\n",
       "    <tr>\n",
       "      <th>2188</th>\n",
       "      <td>JNR1001MG</td>\n",
       "      <td>USR1357</td>\n",
       "      <td>lead</td>\n",
       "      <td>1/8/2022</td>\n",
       "      <td>unsuccessful</td>\n",
       "      <td>lead_introduction</td>\n",
       "    </tr>\n",
       "    <tr>\n",
       "      <th>2189</th>\n",
       "      <td>JNR1001MG</td>\n",
       "      <td>USR1358</td>\n",
       "      <td>lead</td>\n",
       "      <td>1/12/2022</td>\n",
       "      <td>unsuccessful</td>\n",
       "      <td>lead_introduction</td>\n",
       "    </tr>\n",
       "    <tr>\n",
       "      <th>2190</th>\n",
       "      <td>JNR1001MG</td>\n",
       "      <td>USR1359</td>\n",
       "      <td>lead</td>\n",
       "      <td>1/22/2022</td>\n",
       "      <td>unsuccessful</td>\n",
       "      <td>lead_introduction</td>\n",
       "    </tr>\n",
       "    <tr>\n",
       "      <th>2191</th>\n",
       "      <td>JNR1001MG</td>\n",
       "      <td>USR1360</td>\n",
       "      <td>lead</td>\n",
       "      <td>2/21/2022</td>\n",
       "      <td>unsuccessful</td>\n",
       "      <td>lead_introduction</td>\n",
       "    </tr>\n",
       "  </tbody>\n",
       "</table>\n",
       "<p>2192 rows × 6 columns</p>\n",
       "</div>"
      ],
      "text/plain": [
       "      jnr_sm_id  lead_id lead_stage call_done_date   call_status  \\\n",
       "0     JNR1001MG  USR1001       lead       1/2/2022    successful   \n",
       "1     JNR1001MG  USR1001       lead       1/2/2022    successful   \n",
       "2     JNR1001MG  USR1002       lead       1/3/2022    successful   \n",
       "3     JNR1001MG  USR1002       lead       1/4/2022    successful   \n",
       "4     JNR1001MG  USR1002  awareness       1/5/2022    successful   \n",
       "...         ...      ...        ...            ...           ...   \n",
       "2187  JNR1001MG  USR1356       lead      2/21/2022  unsuccessful   \n",
       "2188  JNR1001MG  USR1357       lead       1/8/2022  unsuccessful   \n",
       "2189  JNR1001MG  USR1358       lead      1/12/2022  unsuccessful   \n",
       "2190  JNR1001MG  USR1359       lead      1/22/2022  unsuccessful   \n",
       "2191  JNR1001MG  USR1360       lead      2/21/2022  unsuccessful   \n",
       "\n",
       "             call_reason  \n",
       "0      lead_introduction  \n",
       "1          demo_schedule  \n",
       "2      lead_introduction  \n",
       "3          demo_schedule  \n",
       "4     post_demo_followup  \n",
       "...                  ...  \n",
       "2187   lead_introduction  \n",
       "2188   lead_introduction  \n",
       "2189   lead_introduction  \n",
       "2190   lead_introduction  \n",
       "2191   lead_introduction  \n",
       "\n",
       "[2192 rows x 6 columns]"
      ]
     },
     "execution_count": 29,
     "metadata": {},
     "output_type": "execute_result"
    }
   ],
   "source": [
    "l_inter"
   ]
  },
  {
   "cell_type": "code",
   "execution_count": 30,
   "id": "80e18c05",
   "metadata": {},
   "outputs": [
    {
     "name": "stdout",
     "output_type": "stream",
     "text": [
      "<class 'pandas.core.frame.DataFrame'>\n",
      "RangeIndex: 2192 entries, 0 to 2191\n",
      "Data columns (total 6 columns):\n",
      " #   Column          Non-Null Count  Dtype \n",
      "---  ------          --------------  ----- \n",
      " 0   jnr_sm_id       2192 non-null   object\n",
      " 1   lead_id         2192 non-null   object\n",
      " 2   lead_stage      2192 non-null   object\n",
      " 3   call_done_date  2192 non-null   object\n",
      " 4   call_status     2192 non-null   object\n",
      " 5   call_reason     2192 non-null   object\n",
      "dtypes: object(6)\n",
      "memory usage: 102.9+ KB\n"
     ]
    }
   ],
   "source": [
    "l_inter.info()"
   ]
  },
  {
   "cell_type": "code",
   "execution_count": 31,
   "id": "22991396",
   "metadata": {},
   "outputs": [
    {
     "data": {
      "text/html": [
       "<div>\n",
       "<style scoped>\n",
       "    .dataframe tbody tr th:only-of-type {\n",
       "        vertical-align: middle;\n",
       "    }\n",
       "\n",
       "    .dataframe tbody tr th {\n",
       "        vertical-align: top;\n",
       "    }\n",
       "\n",
       "    .dataframe thead th {\n",
       "        text-align: right;\n",
       "    }\n",
       "</style>\n",
       "<table border=\"1\" class=\"dataframe\">\n",
       "  <thead>\n",
       "    <tr style=\"text-align: right;\">\n",
       "      <th></th>\n",
       "      <th>jnr_sm_id</th>\n",
       "      <th>lead_id</th>\n",
       "      <th>lead_stage</th>\n",
       "      <th>call_done_date</th>\n",
       "      <th>call_status</th>\n",
       "      <th>call_reason</th>\n",
       "    </tr>\n",
       "  </thead>\n",
       "  <tbody>\n",
       "    <tr>\n",
       "      <th>count</th>\n",
       "      <td>2192</td>\n",
       "      <td>2192</td>\n",
       "      <td>2192</td>\n",
       "      <td>2192</td>\n",
       "      <td>2192</td>\n",
       "      <td>2192</td>\n",
       "    </tr>\n",
       "    <tr>\n",
       "      <th>unique</th>\n",
       "      <td>16</td>\n",
       "      <td>358</td>\n",
       "      <td>4</td>\n",
       "      <td>40</td>\n",
       "      <td>2</td>\n",
       "      <td>8</td>\n",
       "    </tr>\n",
       "    <tr>\n",
       "      <th>top</th>\n",
       "      <td>JNR1012MG</td>\n",
       "      <td>USR1193</td>\n",
       "      <td>lead</td>\n",
       "      <td>1/8/2022</td>\n",
       "      <td>successful</td>\n",
       "      <td>demo_not_attended</td>\n",
       "    </tr>\n",
       "    <tr>\n",
       "      <th>freq</th>\n",
       "      <td>164</td>\n",
       "      <td>11</td>\n",
       "      <td>1547</td>\n",
       "      <td>156</td>\n",
       "      <td>1866</td>\n",
       "      <td>701</td>\n",
       "    </tr>\n",
       "  </tbody>\n",
       "</table>\n",
       "</div>"
      ],
      "text/plain": [
       "        jnr_sm_id  lead_id lead_stage call_done_date call_status  \\\n",
       "count        2192     2192       2192           2192        2192   \n",
       "unique         16      358          4             40           2   \n",
       "top     JNR1012MG  USR1193       lead       1/8/2022  successful   \n",
       "freq          164       11       1547            156        1866   \n",
       "\n",
       "              call_reason  \n",
       "count                2192  \n",
       "unique                  8  \n",
       "top     demo_not_attended  \n",
       "freq                  701  "
      ]
     },
     "execution_count": 31,
     "metadata": {},
     "output_type": "execute_result"
    }
   ],
   "source": [
    "l_inter.describe()"
   ]
  },
  {
   "cell_type": "code",
   "execution_count": 32,
   "id": "64967fe4",
   "metadata": {},
   "outputs": [
    {
     "data": {
      "text/html": [
       "<div>\n",
       "<style scoped>\n",
       "    .dataframe tbody tr th:only-of-type {\n",
       "        vertical-align: middle;\n",
       "    }\n",
       "\n",
       "    .dataframe tbody tr th {\n",
       "        vertical-align: top;\n",
       "    }\n",
       "\n",
       "    .dataframe thead th {\n",
       "        text-align: right;\n",
       "    }\n",
       "</style>\n",
       "<table border=\"1\" class=\"dataframe\">\n",
       "  <thead>\n",
       "    <tr style=\"text-align: right;\">\n",
       "      <th></th>\n",
       "      <th>jnr_sm_id</th>\n",
       "      <th>lead_id</th>\n",
       "      <th>lead_stage</th>\n",
       "      <th>call_done_date</th>\n",
       "      <th>call_status</th>\n",
       "      <th>call_reason</th>\n",
       "    </tr>\n",
       "  </thead>\n",
       "  <tbody>\n",
       "    <tr>\n",
       "      <th>0</th>\n",
       "      <td>JNR1001MG</td>\n",
       "      <td>USR1001</td>\n",
       "      <td>lead</td>\n",
       "      <td>1/2/2022</td>\n",
       "      <td>successful</td>\n",
       "      <td>lead_introduction</td>\n",
       "    </tr>\n",
       "    <tr>\n",
       "      <th>1</th>\n",
       "      <td>JNR1001MG</td>\n",
       "      <td>USR1001</td>\n",
       "      <td>lead</td>\n",
       "      <td>1/2/2022</td>\n",
       "      <td>successful</td>\n",
       "      <td>demo_schedule</td>\n",
       "    </tr>\n",
       "    <tr>\n",
       "      <th>2</th>\n",
       "      <td>JNR1001MG</td>\n",
       "      <td>USR1002</td>\n",
       "      <td>lead</td>\n",
       "      <td>1/3/2022</td>\n",
       "      <td>successful</td>\n",
       "      <td>lead_introduction</td>\n",
       "    </tr>\n",
       "    <tr>\n",
       "      <th>3</th>\n",
       "      <td>JNR1001MG</td>\n",
       "      <td>USR1002</td>\n",
       "      <td>lead</td>\n",
       "      <td>1/4/2022</td>\n",
       "      <td>successful</td>\n",
       "      <td>demo_schedule</td>\n",
       "    </tr>\n",
       "    <tr>\n",
       "      <th>4</th>\n",
       "      <td>JNR1001MG</td>\n",
       "      <td>USR1002</td>\n",
       "      <td>awareness</td>\n",
       "      <td>1/5/2022</td>\n",
       "      <td>successful</td>\n",
       "      <td>post_demo_followup</td>\n",
       "    </tr>\n",
       "    <tr>\n",
       "      <th>...</th>\n",
       "      <td>...</td>\n",
       "      <td>...</td>\n",
       "      <td>...</td>\n",
       "      <td>...</td>\n",
       "      <td>...</td>\n",
       "      <td>...</td>\n",
       "    </tr>\n",
       "    <tr>\n",
       "      <th>2187</th>\n",
       "      <td>JNR1001MG</td>\n",
       "      <td>USR1356</td>\n",
       "      <td>lead</td>\n",
       "      <td>2/21/2022</td>\n",
       "      <td>unsuccessful</td>\n",
       "      <td>lead_introduction</td>\n",
       "    </tr>\n",
       "    <tr>\n",
       "      <th>2188</th>\n",
       "      <td>JNR1001MG</td>\n",
       "      <td>USR1357</td>\n",
       "      <td>lead</td>\n",
       "      <td>1/8/2022</td>\n",
       "      <td>unsuccessful</td>\n",
       "      <td>lead_introduction</td>\n",
       "    </tr>\n",
       "    <tr>\n",
       "      <th>2189</th>\n",
       "      <td>JNR1001MG</td>\n",
       "      <td>USR1358</td>\n",
       "      <td>lead</td>\n",
       "      <td>1/12/2022</td>\n",
       "      <td>unsuccessful</td>\n",
       "      <td>lead_introduction</td>\n",
       "    </tr>\n",
       "    <tr>\n",
       "      <th>2190</th>\n",
       "      <td>JNR1001MG</td>\n",
       "      <td>USR1359</td>\n",
       "      <td>lead</td>\n",
       "      <td>1/22/2022</td>\n",
       "      <td>unsuccessful</td>\n",
       "      <td>lead_introduction</td>\n",
       "    </tr>\n",
       "    <tr>\n",
       "      <th>2191</th>\n",
       "      <td>JNR1001MG</td>\n",
       "      <td>USR1360</td>\n",
       "      <td>lead</td>\n",
       "      <td>2/21/2022</td>\n",
       "      <td>unsuccessful</td>\n",
       "      <td>lead_introduction</td>\n",
       "    </tr>\n",
       "  </tbody>\n",
       "</table>\n",
       "<p>2192 rows × 6 columns</p>\n",
       "</div>"
      ],
      "text/plain": [
       "      jnr_sm_id  lead_id lead_stage call_done_date   call_status  \\\n",
       "0     JNR1001MG  USR1001       lead       1/2/2022    successful   \n",
       "1     JNR1001MG  USR1001       lead       1/2/2022    successful   \n",
       "2     JNR1001MG  USR1002       lead       1/3/2022    successful   \n",
       "3     JNR1001MG  USR1002       lead       1/4/2022    successful   \n",
       "4     JNR1001MG  USR1002  awareness       1/5/2022    successful   \n",
       "...         ...      ...        ...            ...           ...   \n",
       "2187  JNR1001MG  USR1356       lead      2/21/2022  unsuccessful   \n",
       "2188  JNR1001MG  USR1357       lead       1/8/2022  unsuccessful   \n",
       "2189  JNR1001MG  USR1358       lead      1/12/2022  unsuccessful   \n",
       "2190  JNR1001MG  USR1359       lead      1/22/2022  unsuccessful   \n",
       "2191  JNR1001MG  USR1360       lead      2/21/2022  unsuccessful   \n",
       "\n",
       "             call_reason  \n",
       "0      lead_introduction  \n",
       "1          demo_schedule  \n",
       "2      lead_introduction  \n",
       "3          demo_schedule  \n",
       "4     post_demo_followup  \n",
       "...                  ...  \n",
       "2187   lead_introduction  \n",
       "2188   lead_introduction  \n",
       "2189   lead_introduction  \n",
       "2190   lead_introduction  \n",
       "2191   lead_introduction  \n",
       "\n",
       "[2192 rows x 6 columns]"
      ]
     },
     "execution_count": 32,
     "metadata": {},
     "output_type": "execute_result"
    }
   ],
   "source": [
    "l_inter"
   ]
  },
  {
   "cell_type": "markdown",
   "id": "670e5594",
   "metadata": {},
   "source": [
    "####  VISUALIZATION"
   ]
  },
  {
   "cell_type": "code",
   "execution_count": 33,
   "id": "ca1034c4",
   "metadata": {},
   "outputs": [
    {
     "data": {
      "image/png": "[encoded data removed]",
      "text/plain": [
       "<Figure size 1080x360 with 3 Axes>"
      ]
     },
     "metadata": {
      "needs_background": "light"
     },
     "output_type": "display_data"
    }
   ],
   "source": [
    "cols2=['lead_stage','call_status','call_reason']\n",
    "plt.figure(figsize=(15,5))\n",
    "repeator=1\n",
    "\n",
    "for i in cols2:\n",
    "    plt.subplot(1,3,repeator)\n",
    "    sns.countplot(y=l_inter[i])\n",
    "    plt.title(i)\n",
    "    repeator=repeator+1\n",
    "    \n",
    "\n",
    "plt.tight_layout()\n",
    "plt.show()"
   ]
  },
  {
   "cell_type": "markdown",
   "id": "6afd35be",
   "metadata": {},
   "source": [
    "##### INFERENCES :\n",
    "\n",
    "* number of leads are high when comparing to the other\n",
    "* most of the leads are available for conversation on Calls\n",
    "* the major reason for the calls is about the leads not attending the demo"
   ]
  },
  {
   "cell_type": "code",
   "execution_count": 34,
   "id": "0b892828",
   "metadata": {},
   "outputs": [],
   "source": [
    "l_inter.drop(columns=['call_done_date','call_status','call_reason'],inplace=True)"
   ]
  },
  {
   "cell_type": "code",
   "execution_count": 35,
   "id": "cb53ffde",
   "metadata": {},
   "outputs": [
    {
     "data": {
      "text/plain": [
       "1461"
      ]
     },
     "execution_count": 35,
     "metadata": {},
     "output_type": "execute_result"
    }
   ],
   "source": [
    "#Identify and drop duplicates\n",
    "l_inter.duplicated().sum()"
   ]
  },
  {
   "cell_type": "code",
   "execution_count": 36,
   "id": "49b67a81",
   "metadata": {},
   "outputs": [],
   "source": [
    "l_inter.drop_duplicates(inplace=True)"
   ]
  },
  {
   "cell_type": "code",
   "execution_count": 37,
   "id": "7e2c3219",
   "metadata": {},
   "outputs": [],
   "source": [
    "# Group and display stages for each lead_id in one record\n",
    "l_inter = l_inter.groupby(['lead_id'], as_index=False).agg({'lead_stage': '-'.join})"
   ]
  },
  {
   "cell_type": "code",
   "execution_count": 38,
   "id": "fb3cee6f",
   "metadata": {},
   "outputs": [],
   "source": [
    "# Renaming the stages according the the last stage for better understanding\n",
    "\n",
    "l_inter['lead_stage'].replace({'lead':'Lead Stage','lead-awareness': 'Awareness Stage', 'lead-awareness-consideration':'Consideration Stage', 'lead-awareness-consideration-conversion':'Conversion Stage'}, inplace=True)"
   ]
  },
  {
   "cell_type": "code",
   "execution_count": 39,
   "id": "657f205a",
   "metadata": {},
   "outputs": [
    {
     "data": {
      "text/html": [
       "<div>\n",
       "<style scoped>\n",
       "    .dataframe tbody tr th:only-of-type {\n",
       "        vertical-align: middle;\n",
       "    }\n",
       "\n",
       "    .dataframe tbody tr th {\n",
       "        vertical-align: top;\n",
       "    }\n",
       "\n",
       "    .dataframe thead th {\n",
       "        text-align: right;\n",
       "    }\n",
       "</style>\n",
       "<table border=\"1\" class=\"dataframe\">\n",
       "  <thead>\n",
       "    <tr style=\"text-align: right;\">\n",
       "      <th></th>\n",
       "      <th>lead_id</th>\n",
       "      <th>lead_stage</th>\n",
       "    </tr>\n",
       "  </thead>\n",
       "  <tbody>\n",
       "    <tr>\n",
       "      <th>0</th>\n",
       "      <td>USR1001</td>\n",
       "      <td>Lead Stage</td>\n",
       "    </tr>\n",
       "    <tr>\n",
       "      <th>1</th>\n",
       "      <td>USR1002</td>\n",
       "      <td>Conversion Stage</td>\n",
       "    </tr>\n",
       "    <tr>\n",
       "      <th>2</th>\n",
       "      <td>USR1003</td>\n",
       "      <td>Awareness Stage</td>\n",
       "    </tr>\n",
       "    <tr>\n",
       "      <th>3</th>\n",
       "      <td>USR1004</td>\n",
       "      <td>Awareness Stage</td>\n",
       "    </tr>\n",
       "    <tr>\n",
       "      <th>4</th>\n",
       "      <td>USR1005</td>\n",
       "      <td>Awareness Stage</td>\n",
       "    </tr>\n",
       "    <tr>\n",
       "      <th>...</th>\n",
       "      <td>...</td>\n",
       "      <td>...</td>\n",
       "    </tr>\n",
       "    <tr>\n",
       "      <th>353</th>\n",
       "      <td>USR1356</td>\n",
       "      <td>Lead Stage</td>\n",
       "    </tr>\n",
       "    <tr>\n",
       "      <th>354</th>\n",
       "      <td>USR1357</td>\n",
       "      <td>Lead Stage</td>\n",
       "    </tr>\n",
       "    <tr>\n",
       "      <th>355</th>\n",
       "      <td>USR1358</td>\n",
       "      <td>Lead Stage</td>\n",
       "    </tr>\n",
       "    <tr>\n",
       "      <th>356</th>\n",
       "      <td>USR1359</td>\n",
       "      <td>Lead Stage</td>\n",
       "    </tr>\n",
       "    <tr>\n",
       "      <th>357</th>\n",
       "      <td>USR1360</td>\n",
       "      <td>Lead Stage</td>\n",
       "    </tr>\n",
       "  </tbody>\n",
       "</table>\n",
       "<p>358 rows × 2 columns</p>\n",
       "</div>"
      ],
      "text/plain": [
       "     lead_id        lead_stage\n",
       "0    USR1001        Lead Stage\n",
       "1    USR1002  Conversion Stage\n",
       "2    USR1003   Awareness Stage\n",
       "3    USR1004   Awareness Stage\n",
       "4    USR1005   Awareness Stage\n",
       "..       ...               ...\n",
       "353  USR1356        Lead Stage\n",
       "354  USR1357        Lead Stage\n",
       "355  USR1358        Lead Stage\n",
       "356  USR1359        Lead Stage\n",
       "357  USR1360        Lead Stage\n",
       "\n",
       "[358 rows x 2 columns]"
      ]
     },
     "execution_count": 39,
     "metadata": {},
     "output_type": "execute_result"
    }
   ],
   "source": [
    "l_inter"
   ]
  },
  {
   "cell_type": "code",
   "execution_count": 40,
   "id": "661e8c21",
   "metadata": {},
   "outputs": [
    {
     "data": {
      "text/plain": [
       "Lead Stage             164\n",
       "Awareness Stage         79\n",
       "Conversion Stage        64\n",
       "Consideration Stage     51\n",
       "Name: lead_stage, dtype: int64"
      ]
     },
     "execution_count": 40,
     "metadata": {},
     "output_type": "execute_result"
    }
   ],
   "source": [
    "l_inter['lead_stage'].value_counts()"
   ]
  },
  {
   "cell_type": "code",
   "execution_count": 41,
   "id": "fc4db8fa",
   "metadata": {},
   "outputs": [
    {
     "data": {
      "image/png": "[encoded data removed]",
      "text/plain": [
       "<Figure size 432x288 with 1 Axes>"
      ]
     },
     "metadata": {
      "needs_background": "light"
     },
     "output_type": "display_data"
    }
   ],
   "source": [
    "\n",
    "sns.countplot(y=l_inter['lead_stage'])\n",
    "plt.show()"
   ]
  },
  {
   "cell_type": "markdown",
   "id": "3d43fdf5",
   "metadata": {},
   "source": [
    "### leads_reasons_for_no_interest"
   ]
  },
  {
   "cell_type": "code",
   "execution_count": 42,
   "id": "874b54bf",
   "metadata": {},
   "outputs": [
    {
     "data": {
      "text/html": [
       "<div>\n",
       "<style scoped>\n",
       "    .dataframe tbody tr th:only-of-type {\n",
       "        vertical-align: middle;\n",
       "    }\n",
       "\n",
       "    .dataframe tbody tr th {\n",
       "        vertical-align: top;\n",
       "    }\n",
       "\n",
       "    .dataframe thead th {\n",
       "        text-align: right;\n",
       "    }\n",
       "</style>\n",
       "<table border=\"1\" class=\"dataframe\">\n",
       "  <thead>\n",
       "    <tr style=\"text-align: right;\">\n",
       "      <th></th>\n",
       "      <th>lead_id</th>\n",
       "      <th>reasons_for_not_interested_in_demo</th>\n",
       "      <th>reasons_for_not_interested_to_consider</th>\n",
       "      <th>reasons_for_not_interested_to_convert</th>\n",
       "    </tr>\n",
       "  </thead>\n",
       "  <tbody>\n",
       "    <tr>\n",
       "      <th>0</th>\n",
       "      <td>USR1001</td>\n",
       "      <td>No time for student</td>\n",
       "      <td>NaN</td>\n",
       "      <td>NaN</td>\n",
       "    </tr>\n",
       "    <tr>\n",
       "      <th>1</th>\n",
       "      <td>USR1003</td>\n",
       "      <td>NaN</td>\n",
       "      <td>No time for student</td>\n",
       "      <td>NaN</td>\n",
       "    </tr>\n",
       "    <tr>\n",
       "      <th>2</th>\n",
       "      <td>USR1004</td>\n",
       "      <td>NaN</td>\n",
       "      <td>Wants offline classes</td>\n",
       "      <td>NaN</td>\n",
       "    </tr>\n",
       "    <tr>\n",
       "      <th>3</th>\n",
       "      <td>USR1005</td>\n",
       "      <td>NaN</td>\n",
       "      <td>Can't afford</td>\n",
       "      <td>NaN</td>\n",
       "    </tr>\n",
       "    <tr>\n",
       "      <th>4</th>\n",
       "      <td>USR1006</td>\n",
       "      <td>NaN</td>\n",
       "      <td>Student not interested in domain</td>\n",
       "      <td>NaN</td>\n",
       "    </tr>\n",
       "    <tr>\n",
       "      <th>...</th>\n",
       "      <td>...</td>\n",
       "      <td>...</td>\n",
       "      <td>...</td>\n",
       "      <td>...</td>\n",
       "    </tr>\n",
       "    <tr>\n",
       "      <th>289</th>\n",
       "      <td>USR1356</td>\n",
       "      <td>Cannot afford</td>\n",
       "      <td>NaN</td>\n",
       "      <td>NaN</td>\n",
       "    </tr>\n",
       "    <tr>\n",
       "      <th>290</th>\n",
       "      <td>USR1357</td>\n",
       "      <td>Cannot afford</td>\n",
       "      <td>NaN</td>\n",
       "      <td>NaN</td>\n",
       "    </tr>\n",
       "    <tr>\n",
       "      <th>291</th>\n",
       "      <td>USR1358</td>\n",
       "      <td>Wants offline classes</td>\n",
       "      <td>NaN</td>\n",
       "      <td>NaN</td>\n",
       "    </tr>\n",
       "    <tr>\n",
       "      <th>292</th>\n",
       "      <td>USR1359</td>\n",
       "      <td>Will join in final year</td>\n",
       "      <td>NaN</td>\n",
       "      <td>NaN</td>\n",
       "    </tr>\n",
       "    <tr>\n",
       "      <th>293</th>\n",
       "      <td>USR1360</td>\n",
       "      <td>Will join in final year</td>\n",
       "      <td>NaN</td>\n",
       "      <td>NaN</td>\n",
       "    </tr>\n",
       "  </tbody>\n",
       "</table>\n",
       "<p>294 rows × 4 columns</p>\n",
       "</div>"
      ],
      "text/plain": [
       "     lead_id reasons_for_not_interested_in_demo  \\\n",
       "0    USR1001                No time for student   \n",
       "1    USR1003                                NaN   \n",
       "2    USR1004                                NaN   \n",
       "3    USR1005                                NaN   \n",
       "4    USR1006                                NaN   \n",
       "..       ...                                ...   \n",
       "289  USR1356                      Cannot afford   \n",
       "290  USR1357                      Cannot afford   \n",
       "291  USR1358              Wants offline classes   \n",
       "292  USR1359            Will join in final year   \n",
       "293  USR1360            Will join in final year   \n",
       "\n",
       "    reasons_for_not_interested_to_consider  \\\n",
       "0                                      NaN   \n",
       "1                      No time for student   \n",
       "2                    Wants offline classes   \n",
       "3                             Can't afford   \n",
       "4         Student not interested in domain   \n",
       "..                                     ...   \n",
       "289                                    NaN   \n",
       "290                                    NaN   \n",
       "291                                    NaN   \n",
       "292                                    NaN   \n",
       "293                                    NaN   \n",
       "\n",
       "    reasons_for_not_interested_to_convert  \n",
       "0                                     NaN  \n",
       "1                                     NaN  \n",
       "2                                     NaN  \n",
       "3                                     NaN  \n",
       "4                                     NaN  \n",
       "..                                    ...  \n",
       "289                                   NaN  \n",
       "290                                   NaN  \n",
       "291                                   NaN  \n",
       "292                                   NaN  \n",
       "293                                   NaN  \n",
       "\n",
       "[294 rows x 4 columns]"
      ]
     },
     "execution_count": 42,
     "metadata": {},
     "output_type": "execute_result"
    }
   ],
   "source": [
    "l_reasons"
   ]
  },
  {
   "cell_type": "code",
   "execution_count": 43,
   "id": "422d328e",
   "metadata": {},
   "outputs": [
    {
     "name": "stdout",
     "output_type": "stream",
     "text": [
      "<class 'pandas.core.frame.DataFrame'>\n",
      "RangeIndex: 294 entries, 0 to 293\n",
      "Data columns (total 4 columns):\n",
      " #   Column                                  Non-Null Count  Dtype \n",
      "---  ------                                  --------------  ----- \n",
      " 0   lead_id                                 294 non-null    object\n",
      " 1   reasons_for_not_interested_in_demo      164 non-null    object\n",
      " 2   reasons_for_not_interested_to_consider  79 non-null     object\n",
      " 3   reasons_for_not_interested_to_convert   51 non-null     object\n",
      "dtypes: object(4)\n",
      "memory usage: 9.3+ KB\n"
     ]
    }
   ],
   "source": [
    "l_reasons.info()"
   ]
  },
  {
   "cell_type": "code",
   "execution_count": 44,
   "id": "0babb057",
   "metadata": {},
   "outputs": [],
   "source": [
    "#we have null values in the data\n",
    "#In this scenario, we can combine the values of these three columns\n",
    "#into a single column named 'reason_for_not_interested'."
   ]
  },
  {
   "cell_type": "code",
   "execution_count": 45,
   "id": "88d6ff3d",
   "metadata": {},
   "outputs": [],
   "source": [
    "# Replacing Null values with an empty string\n",
    "li=['reasons_for_not_interested_in_demo','reasons_for_not_interested_to_consider','reasons_for_not_interested_to_convert']\n",
    "\n",
    "for i in li:\n",
    "    l_reasons[i] = l_reasons[i].fillna('')"
   ]
  },
  {
   "cell_type": "code",
   "execution_count": 46,
   "id": "ef0570be",
   "metadata": {},
   "outputs": [],
   "source": [
    "# Combine all the values in the existing columns and store them in the new column.\n",
    "l_reasons['Reason_for_not_interested'] = l_reasons['reasons_for_not_interested_in_demo']+l_reasons['reasons_for_not_interested_to_consider']+ l_reasons['reasons_for_not_interested_to_convert']"
   ]
  },
  {
   "cell_type": "code",
   "execution_count": 47,
   "id": "9da9a790",
   "metadata": {},
   "outputs": [],
   "source": [
    "# Dropping the columns that are no longer required for analysis.\n",
    "l_reasons= l_reasons.drop(['reasons_for_not_interested_in_demo','reasons_for_not_interested_to_consider', 'reasons_for_not_interested_to_convert'], axis=1)"
   ]
  },
  {
   "cell_type": "code",
   "execution_count": 48,
   "id": "66f59a62",
   "metadata": {},
   "outputs": [
    {
     "data": {
      "text/html": [
       "<div>\n",
       "<style scoped>\n",
       "    .dataframe tbody tr th:only-of-type {\n",
       "        vertical-align: middle;\n",
       "    }\n",
       "\n",
       "    .dataframe tbody tr th {\n",
       "        vertical-align: top;\n",
       "    }\n",
       "\n",
       "    .dataframe thead th {\n",
       "        text-align: right;\n",
       "    }\n",
       "</style>\n",
       "<table border=\"1\" class=\"dataframe\">\n",
       "  <thead>\n",
       "    <tr style=\"text-align: right;\">\n",
       "      <th></th>\n",
       "      <th>lead_id</th>\n",
       "      <th>Reason_for_not_interested</th>\n",
       "    </tr>\n",
       "  </thead>\n",
       "  <tbody>\n",
       "    <tr>\n",
       "      <th>count</th>\n",
       "      <td>294</td>\n",
       "      <td>294</td>\n",
       "    </tr>\n",
       "    <tr>\n",
       "      <th>unique</th>\n",
       "      <td>294</td>\n",
       "      <td>6</td>\n",
       "    </tr>\n",
       "    <tr>\n",
       "      <th>top</th>\n",
       "      <td>USR1001</td>\n",
       "      <td>Can't afford</td>\n",
       "    </tr>\n",
       "    <tr>\n",
       "      <th>freq</th>\n",
       "      <td>1</td>\n",
       "      <td>95</td>\n",
       "    </tr>\n",
       "  </tbody>\n",
       "</table>\n",
       "</div>"
      ],
      "text/plain": [
       "        lead_id Reason_for_not_interested\n",
       "count       294                       294\n",
       "unique      294                         6\n",
       "top     USR1001              Can't afford\n",
       "freq          1                        95"
      ]
     },
     "execution_count": 48,
     "metadata": {},
     "output_type": "execute_result"
    }
   ],
   "source": [
    "l_reasons.describe()"
   ]
  },
  {
   "cell_type": "code",
   "execution_count": 49,
   "id": "5bf8d001",
   "metadata": {},
   "outputs": [
    {
     "data": {
      "text/plain": [
       "0"
      ]
     },
     "execution_count": 49,
     "metadata": {},
     "output_type": "execute_result"
    }
   ],
   "source": [
    "#Identify and drop duplicates\n",
    "l_reasons.duplicated().sum()"
   ]
  },
  {
   "cell_type": "code",
   "execution_count": 50,
   "id": "88a1f129",
   "metadata": {},
   "outputs": [
    {
     "data": {
      "text/plain": [
       "Can't afford                        95\n",
       "Wants offline classes               91\n",
       "Student not interested in domain    52\n",
       "No time for student                 38\n",
       "Will join in final year             14\n",
       "Cannot afford                        4\n",
       "Name: Reason_for_not_interested, dtype: int64"
      ]
     },
     "execution_count": 50,
     "metadata": {},
     "output_type": "execute_result"
    }
   ],
   "source": [
    "l_reasons['Reason_for_not_interested'].value_counts()\n",
    "\n",
    "#We notice that there are two values 'Can't afford' and 'Cannot afford' in 'Reason_for_not_interested' column that \n",
    "# mean the same We shall rename one of these values for more accurate analysis."
   ]
  },
  {
   "cell_type": "code",
   "execution_count": 51,
   "id": "b94af62b",
   "metadata": {},
   "outputs": [],
   "source": [
    "#replacing can't afford with cannot afford\n",
    "\n",
    "l_reasons['Reason_for_not_interested'].replace({\"Can't afford\":'Cannot afford'}, inplace=True)"
   ]
  },
  {
   "cell_type": "code",
   "execution_count": 52,
   "id": "44c80a0e",
   "metadata": {},
   "outputs": [
    {
     "data": {
      "text/plain": [
       "Cannot afford                       99\n",
       "Wants offline classes               91\n",
       "Student not interested in domain    52\n",
       "No time for student                 38\n",
       "Will join in final year             14\n",
       "Name: Reason_for_not_interested, dtype: int64"
      ]
     },
     "execution_count": 52,
     "metadata": {},
     "output_type": "execute_result"
    }
   ],
   "source": [
    "l_reasons['Reason_for_not_interested'].value_counts()"
   ]
  },
  {
   "cell_type": "code",
   "execution_count": 54,
   "id": "b18936d5",
   "metadata": {},
   "outputs": [
    {
     "data": {
      "image/png": "[encoded data removed]",
      "text/plain": [
       "<Figure size 432x288 with 1 Axes>"
      ]
     },
     "metadata": {
      "needs_background": "light"
     },
     "output_type": "display_data"
    }
   ],
   "source": [
    "#VISUALIZATION\n",
    "\n",
    "sns.countplot(y=l_reasons['Reason_for_not_interested'])\n",
    "plt.show()"
   ]
  },
  {
   "cell_type": "markdown",
   "id": "70185911",
   "metadata": {},
   "source": [
    "##### INFERENCES\n",
    "* The top reasons for the leads to drop:\n",
    "\n",
    "  Affordability of the course and preferring offline classes"
   ]
  },
  {
   "cell_type": "markdown",
   "id": "d564917f",
   "metadata": {},
   "source": [
    "### sales_managers_assigned_leads_details"
   ]
  },
  {
   "cell_type": "code",
   "execution_count": 55,
   "id": "022e862f",
   "metadata": {},
   "outputs": [
    {
     "data": {
      "text/html": [
       "<div>\n",
       "<style scoped>\n",
       "    .dataframe tbody tr th:only-of-type {\n",
       "        vertical-align: middle;\n",
       "    }\n",
       "\n",
       "    .dataframe tbody tr th {\n",
       "        vertical-align: top;\n",
       "    }\n",
       "\n",
       "    .dataframe thead th {\n",
       "        text-align: right;\n",
       "    }\n",
       "</style>\n",
       "<table border=\"1\" class=\"dataframe\">\n",
       "  <thead>\n",
       "    <tr style=\"text-align: right;\">\n",
       "      <th></th>\n",
       "      <th>snr_sm_id</th>\n",
       "      <th>jnr_sm_id</th>\n",
       "      <th>assigned_date</th>\n",
       "      <th>cycle</th>\n",
       "      <th>lead_id</th>\n",
       "    </tr>\n",
       "  </thead>\n",
       "  <tbody>\n",
       "    <tr>\n",
       "      <th>0</th>\n",
       "      <td>SNR501MG</td>\n",
       "      <td>JNR1001MG</td>\n",
       "      <td>1/1/2022</td>\n",
       "      <td>1</td>\n",
       "      <td>USR1001</td>\n",
       "    </tr>\n",
       "    <tr>\n",
       "      <th>1</th>\n",
       "      <td>SNR501MG</td>\n",
       "      <td>JNR1001MG</td>\n",
       "      <td>1/1/2022</td>\n",
       "      <td>1</td>\n",
       "      <td>USR1002</td>\n",
       "    </tr>\n",
       "    <tr>\n",
       "      <th>2</th>\n",
       "      <td>SNR501MG</td>\n",
       "      <td>JNR1001MG</td>\n",
       "      <td>1/1/2022</td>\n",
       "      <td>1</td>\n",
       "      <td>USR1003</td>\n",
       "    </tr>\n",
       "    <tr>\n",
       "      <th>3</th>\n",
       "      <td>SNR501MG</td>\n",
       "      <td>JNR1001MG</td>\n",
       "      <td>1/1/2022</td>\n",
       "      <td>1</td>\n",
       "      <td>USR1004</td>\n",
       "    </tr>\n",
       "    <tr>\n",
       "      <th>4</th>\n",
       "      <td>SNR501MG</td>\n",
       "      <td>JNR1001MG</td>\n",
       "      <td>1/1/2022</td>\n",
       "      <td>1</td>\n",
       "      <td>USR1005</td>\n",
       "    </tr>\n",
       "    <tr>\n",
       "      <th>...</th>\n",
       "      <td>...</td>\n",
       "      <td>...</td>\n",
       "      <td>...</td>\n",
       "      <td>...</td>\n",
       "      <td>...</td>\n",
       "    </tr>\n",
       "    <tr>\n",
       "      <th>355</th>\n",
       "      <td>SNR501MG</td>\n",
       "      <td>JNR1001MG</td>\n",
       "      <td>2/19/2022</td>\n",
       "      <td>4</td>\n",
       "      <td>USR1356</td>\n",
       "    </tr>\n",
       "    <tr>\n",
       "      <th>356</th>\n",
       "      <td>SNR501MG</td>\n",
       "      <td>JNR1001MG</td>\n",
       "      <td>1/1/2022</td>\n",
       "      <td>1</td>\n",
       "      <td>USR1357</td>\n",
       "    </tr>\n",
       "    <tr>\n",
       "      <th>357</th>\n",
       "      <td>SNR501MG</td>\n",
       "      <td>JNR1001MG</td>\n",
       "      <td>1/8/2022</td>\n",
       "      <td>2</td>\n",
       "      <td>USR1358</td>\n",
       "    </tr>\n",
       "    <tr>\n",
       "      <th>358</th>\n",
       "      <td>SNR501MG</td>\n",
       "      <td>JNR1001MG</td>\n",
       "      <td>1/15/2022</td>\n",
       "      <td>3</td>\n",
       "      <td>USR1359</td>\n",
       "    </tr>\n",
       "    <tr>\n",
       "      <th>359</th>\n",
       "      <td>SNR501MG</td>\n",
       "      <td>JNR1001MG</td>\n",
       "      <td>2/19/2022</td>\n",
       "      <td>4</td>\n",
       "      <td>USR1360</td>\n",
       "    </tr>\n",
       "  </tbody>\n",
       "</table>\n",
       "<p>360 rows × 5 columns</p>\n",
       "</div>"
      ],
      "text/plain": [
       "    snr_sm_id  jnr_sm_id assigned_date  cycle  lead_id\n",
       "0    SNR501MG  JNR1001MG      1/1/2022      1  USR1001\n",
       "1    SNR501MG  JNR1001MG      1/1/2022      1  USR1002\n",
       "2    SNR501MG  JNR1001MG      1/1/2022      1  USR1003\n",
       "3    SNR501MG  JNR1001MG      1/1/2022      1  USR1004\n",
       "4    SNR501MG  JNR1001MG      1/1/2022      1  USR1005\n",
       "..        ...        ...           ...    ...      ...\n",
       "355  SNR501MG  JNR1001MG     2/19/2022      4  USR1356\n",
       "356  SNR501MG  JNR1001MG      1/1/2022      1  USR1357\n",
       "357  SNR501MG  JNR1001MG      1/8/2022      2  USR1358\n",
       "358  SNR501MG  JNR1001MG     1/15/2022      3  USR1359\n",
       "359  SNR501MG  JNR1001MG     2/19/2022      4  USR1360\n",
       "\n",
       "[360 rows x 5 columns]"
      ]
     },
     "execution_count": 55,
     "metadata": {},
     "output_type": "execute_result"
    }
   ],
   "source": [
    "l_sales"
   ]
  },
  {
   "cell_type": "code",
   "execution_count": 56,
   "id": "4adb3df3",
   "metadata": {},
   "outputs": [
    {
     "name": "stdout",
     "output_type": "stream",
     "text": [
      "<class 'pandas.core.frame.DataFrame'>\n",
      "RangeIndex: 360 entries, 0 to 359\n",
      "Data columns (total 5 columns):\n",
      " #   Column         Non-Null Count  Dtype \n",
      "---  ------         --------------  ----- \n",
      " 0   snr_sm_id      360 non-null    object\n",
      " 1   jnr_sm_id      360 non-null    object\n",
      " 2   assigned_date  360 non-null    object\n",
      " 3   cycle          360 non-null    int64 \n",
      " 4   lead_id        360 non-null    object\n",
      "dtypes: int64(1), object(4)\n",
      "memory usage: 14.2+ KB\n"
     ]
    }
   ],
   "source": [
    "l_sales.info()"
   ]
  },
  {
   "cell_type": "code",
   "execution_count": 57,
   "id": "56c5fda6",
   "metadata": {},
   "outputs": [
    {
     "data": {
      "text/html": [
       "<div>\n",
       "<style scoped>\n",
       "    .dataframe tbody tr th:only-of-type {\n",
       "        vertical-align: middle;\n",
       "    }\n",
       "\n",
       "    .dataframe tbody tr th {\n",
       "        vertical-align: top;\n",
       "    }\n",
       "\n",
       "    .dataframe thead th {\n",
       "        text-align: right;\n",
       "    }\n",
       "</style>\n",
       "<table border=\"1\" class=\"dataframe\">\n",
       "  <thead>\n",
       "    <tr style=\"text-align: right;\">\n",
       "      <th></th>\n",
       "      <th>snr_sm_id</th>\n",
       "      <th>jnr_sm_id</th>\n",
       "      <th>assigned_date</th>\n",
       "      <th>cycle</th>\n",
       "      <th>lead_id</th>\n",
       "    </tr>\n",
       "  </thead>\n",
       "  <tbody>\n",
       "    <tr>\n",
       "      <th>count</th>\n",
       "      <td>360</td>\n",
       "      <td>360</td>\n",
       "      <td>360</td>\n",
       "      <td>360.000000</td>\n",
       "      <td>360</td>\n",
       "    </tr>\n",
       "    <tr>\n",
       "      <th>unique</th>\n",
       "      <td>4</td>\n",
       "      <td>16</td>\n",
       "      <td>4</td>\n",
       "      <td>NaN</td>\n",
       "      <td>360</td>\n",
       "    </tr>\n",
       "    <tr>\n",
       "      <th>top</th>\n",
       "      <td>SNR503MG</td>\n",
       "      <td>JNR1001MG</td>\n",
       "      <td>1/1/2022</td>\n",
       "      <td>NaN</td>\n",
       "      <td>USR1001</td>\n",
       "    </tr>\n",
       "    <tr>\n",
       "      <th>freq</th>\n",
       "      <td>98</td>\n",
       "      <td>34</td>\n",
       "      <td>94</td>\n",
       "      <td>NaN</td>\n",
       "      <td>1</td>\n",
       "    </tr>\n",
       "    <tr>\n",
       "      <th>mean</th>\n",
       "      <td>NaN</td>\n",
       "      <td>NaN</td>\n",
       "      <td>NaN</td>\n",
       "      <td>2.469444</td>\n",
       "      <td>NaN</td>\n",
       "    </tr>\n",
       "    <tr>\n",
       "      <th>std</th>\n",
       "      <td>NaN</td>\n",
       "      <td>NaN</td>\n",
       "      <td>NaN</td>\n",
       "      <td>1.124139</td>\n",
       "      <td>NaN</td>\n",
       "    </tr>\n",
       "    <tr>\n",
       "      <th>min</th>\n",
       "      <td>NaN</td>\n",
       "      <td>NaN</td>\n",
       "      <td>NaN</td>\n",
       "      <td>1.000000</td>\n",
       "      <td>NaN</td>\n",
       "    </tr>\n",
       "    <tr>\n",
       "      <th>25%</th>\n",
       "      <td>NaN</td>\n",
       "      <td>NaN</td>\n",
       "      <td>NaN</td>\n",
       "      <td>1.000000</td>\n",
       "      <td>NaN</td>\n",
       "    </tr>\n",
       "    <tr>\n",
       "      <th>50%</th>\n",
       "      <td>NaN</td>\n",
       "      <td>NaN</td>\n",
       "      <td>NaN</td>\n",
       "      <td>2.000000</td>\n",
       "      <td>NaN</td>\n",
       "    </tr>\n",
       "    <tr>\n",
       "      <th>75%</th>\n",
       "      <td>NaN</td>\n",
       "      <td>NaN</td>\n",
       "      <td>NaN</td>\n",
       "      <td>3.000000</td>\n",
       "      <td>NaN</td>\n",
       "    </tr>\n",
       "    <tr>\n",
       "      <th>max</th>\n",
       "      <td>NaN</td>\n",
       "      <td>NaN</td>\n",
       "      <td>NaN</td>\n",
       "      <td>4.000000</td>\n",
       "      <td>NaN</td>\n",
       "    </tr>\n",
       "  </tbody>\n",
       "</table>\n",
       "</div>"
      ],
      "text/plain": [
       "       snr_sm_id  jnr_sm_id assigned_date       cycle  lead_id\n",
       "count        360        360           360  360.000000      360\n",
       "unique         4         16             4         NaN      360\n",
       "top     SNR503MG  JNR1001MG      1/1/2022         NaN  USR1001\n",
       "freq          98         34            94         NaN        1\n",
       "mean         NaN        NaN           NaN    2.469444      NaN\n",
       "std          NaN        NaN           NaN    1.124139      NaN\n",
       "min          NaN        NaN           NaN    1.000000      NaN\n",
       "25%          NaN        NaN           NaN    1.000000      NaN\n",
       "50%          NaN        NaN           NaN    2.000000      NaN\n",
       "75%          NaN        NaN           NaN    3.000000      NaN\n",
       "max          NaN        NaN           NaN    4.000000      NaN"
      ]
     },
     "execution_count": 57,
     "metadata": {},
     "output_type": "execute_result"
    }
   ],
   "source": [
    "l_sales.describe(include='all')"
   ]
  },
  {
   "cell_type": "code",
   "execution_count": 58,
   "id": "4d49f369",
   "metadata": {},
   "outputs": [
    {
     "data": {
      "text/plain": [
       "0"
      ]
     },
     "execution_count": 58,
     "metadata": {},
     "output_type": "execute_result"
    }
   ],
   "source": [
    "#Identify and drop duplicates\n",
    "l_sales.duplicated().sum()"
   ]
  },
  {
   "cell_type": "code",
   "execution_count": 59,
   "id": "594440c9",
   "metadata": {},
   "outputs": [
    {
     "data": {
      "text/plain": [
       "1    94\n",
       "2    91\n",
       "4    88\n",
       "3    87\n",
       "Name: cycle, dtype: int64"
      ]
     },
     "execution_count": 59,
     "metadata": {},
     "output_type": "execute_result"
    }
   ],
   "source": [
    "l_sales['cycle'].value_counts()"
   ]
  },
  {
   "cell_type": "markdown",
   "id": "a4e57b7b",
   "metadata": {},
   "source": [
    "#### VISUALIZATION"
   ]
  },
  {
   "cell_type": "code",
   "execution_count": 60,
   "id": "3a983a10",
   "metadata": {},
   "outputs": [
    {
     "data": {
      "image/png": "[encoded data removed]",
      "text/plain": [
       "<Figure size 864x720 with 5 Axes>"
      ]
     },
     "metadata": {
      "needs_background": "light"
     },
     "output_type": "display_data"
    }
   ],
   "source": [
    "\n",
    "cols4=l_sales.columns\n",
    "plt.figure(figsize=(12,10))\n",
    "repeator=1\n",
    "\n",
    "for i in cols4:\n",
    "    plt.subplot(5,3,repeator)\n",
    "    sns.countplot(y=l_sales[i])\n",
    "    plt.title(i)\n",
    "    repeator=repeator+1\n",
    "\n",
    "plt.tight_layout()\n",
    "plt.show()"
   ]
  },
  {
   "cell_type": "markdown",
   "id": "576a8b56",
   "metadata": {},
   "source": [
    "##### INFERENCES\n",
    "* there are four Senior Sales Managers\n",
    "* there are 16 junior sales managers\n",
    "\n",
    "* It may be number of Junior Sales Managers are evenly assigned among Senior Sales Managers"
   ]
  },
  {
   "cell_type": "markdown",
   "id": "655baabc",
   "metadata": {},
   "source": [
    "### COMBINING DATAFRAMES"
   ]
  },
  {
   "cell_type": "code",
   "execution_count": 61,
   "id": "8f3af58c",
   "metadata": {},
   "outputs": [
    {
     "name": "stdout",
     "output_type": "stream",
     "text": [
      "<class 'pandas.core.frame.DataFrame'>\n",
      "Int64Index: 356 entries, 0 to 355\n",
      "Data columns (total 8 columns):\n",
      " #   Column             Non-Null Count  Dtype \n",
      "---  ------             --------------  ----- \n",
      " 0   lead_id            356 non-null    object\n",
      " 1   age                356 non-null    int64 \n",
      " 2   gender             356 non-null    object\n",
      " 3   current_city       356 non-null    object\n",
      " 4   current_education  356 non-null    object\n",
      " 5   parent_occupation  356 non-null    object\n",
      " 6   lead_gen_source    356 non-null    object\n",
      " 7   lead_stage         356 non-null    object\n",
      "dtypes: int64(1), object(7)\n",
      "memory usage: 25.0+ KB\n"
     ]
    }
   ],
   "source": [
    "df1 = pd.merge(l_basic,l_inter)\n",
    "df1.info()"
   ]
  },
  {
   "cell_type": "code",
   "execution_count": 62,
   "id": "1a903a9e",
   "metadata": {},
   "outputs": [
    {
     "name": "stdout",
     "output_type": "stream",
     "text": [
      "<class 'pandas.core.frame.DataFrame'>\n",
      "Int64Index: 356 entries, 0 to 355\n",
      "Data columns (total 12 columns):\n",
      " #   Column             Non-Null Count  Dtype \n",
      "---  ------             --------------  ----- \n",
      " 0   lead_id            356 non-null    object\n",
      " 1   age                356 non-null    int64 \n",
      " 2   gender             356 non-null    object\n",
      " 3   current_city       356 non-null    object\n",
      " 4   current_education  356 non-null    object\n",
      " 5   parent_occupation  356 non-null    object\n",
      " 6   lead_gen_source    356 non-null    object\n",
      " 7   lead_stage         356 non-null    object\n",
      " 8   snr_sm_id          356 non-null    object\n",
      " 9   jnr_sm_id          356 non-null    object\n",
      " 10  assigned_date      356 non-null    object\n",
      " 11  cycle              356 non-null    int64 \n",
      "dtypes: int64(2), object(10)\n",
      "memory usage: 36.2+ KB\n"
     ]
    }
   ],
   "source": [
    "df2 = pd.merge(df1,l_sales)\n",
    "df2.info()"
   ]
  },
  {
   "cell_type": "code",
   "execution_count": 63,
   "id": "17797b2d",
   "metadata": {},
   "outputs": [
    {
     "name": "stdout",
     "output_type": "stream",
     "text": [
      "<class 'pandas.core.frame.DataFrame'>\n",
      "Int64Index: 356 entries, 0 to 355\n",
      "Data columns (total 13 columns):\n",
      " #   Column                     Non-Null Count  Dtype \n",
      "---  ------                     --------------  ----- \n",
      " 0   lead_id                    356 non-null    object\n",
      " 1   age                        356 non-null    int64 \n",
      " 2   gender                     356 non-null    object\n",
      " 3   current_city               356 non-null    object\n",
      " 4   current_education          356 non-null    object\n",
      " 5   parent_occupation          356 non-null    object\n",
      " 6   lead_gen_source            356 non-null    object\n",
      " 7   lead_stage                 356 non-null    object\n",
      " 8   snr_sm_id                  356 non-null    object\n",
      " 9   jnr_sm_id                  356 non-null    object\n",
      " 10  assigned_date              356 non-null    object\n",
      " 11  cycle                      356 non-null    int64 \n",
      " 12  Reason_for_not_interested  292 non-null    object\n",
      "dtypes: int64(2), object(11)\n",
      "memory usage: 38.9+ KB\n"
     ]
    }
   ],
   "source": [
    "df3 = pd.merge(df2,l_reasons, how = 'left', on='lead_id')\n",
    "df3.info()"
   ]
  },
  {
   "cell_type": "code",
   "execution_count": 64,
   "id": "da7dbfb4",
   "metadata": {},
   "outputs": [],
   "source": [
    "df3['Reason_for_not_interested'] = df3['Reason_for_not_interested'].fillna('Interested')"
   ]
  },
  {
   "cell_type": "code",
   "execution_count": 65,
   "id": "22936ea5",
   "metadata": {},
   "outputs": [
    {
     "name": "stdout",
     "output_type": "stream",
     "text": [
      "<class 'pandas.core.frame.DataFrame'>\n",
      "Int64Index: 356 entries, 0 to 355\n",
      "Data columns (total 15 columns):\n",
      " #   Column                     Non-Null Count  Dtype  \n",
      "---  ------                     --------------  -----  \n",
      " 0   lead_id                    356 non-null    object \n",
      " 1   age                        356 non-null    int64  \n",
      " 2   gender                     356 non-null    object \n",
      " 3   current_city               356 non-null    object \n",
      " 4   current_education          356 non-null    object \n",
      " 5   parent_occupation          356 non-null    object \n",
      " 6   lead_gen_source            356 non-null    object \n",
      " 7   lead_stage                 356 non-null    object \n",
      " 8   snr_sm_id                  356 non-null    object \n",
      " 9   jnr_sm_id                  356 non-null    object \n",
      " 10  assigned_date              356 non-null    object \n",
      " 11  cycle                      356 non-null    int64  \n",
      " 12  Reason_for_not_interested  356 non-null    object \n",
      " 13  language                   191 non-null    object \n",
      " 14  watched_percentage         191 non-null    float64\n",
      "dtypes: float64(1), int64(2), object(12)\n",
      "memory usage: 44.5+ KB\n"
     ]
    }
   ],
   "source": [
    "df= pd.merge(df3,l_demo,how='left',on='lead_id')\n",
    "df.info()"
   ]
  },
  {
   "cell_type": "code",
   "execution_count": 66,
   "id": "8ad5d2c4",
   "metadata": {},
   "outputs": [
    {
     "data": {
      "text/plain": [
       "English    111\n",
       "Telugu      61\n",
       "Hindi       19\n",
       "Name: language, dtype: int64"
      ]
     },
     "execution_count": 66,
     "metadata": {},
     "output_type": "execute_result"
    }
   ],
   "source": [
    "df['language'].value_counts()"
   ]
  },
  {
   "cell_type": "code",
   "execution_count": 67,
   "id": "0543268e",
   "metadata": {},
   "outputs": [],
   "source": [
    "df['language'] = df['language'].fillna('Info Unavailable')"
   ]
  },
  {
   "cell_type": "code",
   "execution_count": 68,
   "id": "e5abdce0",
   "metadata": {},
   "outputs": [],
   "source": [
    "df['watched_percentage'] = df['watched_percentage'].fillna('0')"
   ]
  },
  {
   "cell_type": "code",
   "execution_count": 69,
   "id": "da37a61f",
   "metadata": {},
   "outputs": [
    {
     "data": {
      "text/plain": [
       "lead_id                      0\n",
       "age                          0\n",
       "gender                       0\n",
       "current_city                 0\n",
       "current_education            0\n",
       "parent_occupation            0\n",
       "lead_gen_source              0\n",
       "lead_stage                   0\n",
       "snr_sm_id                    0\n",
       "jnr_sm_id                    0\n",
       "assigned_date                0\n",
       "cycle                        0\n",
       "Reason_for_not_interested    0\n",
       "language                     0\n",
       "watched_percentage           0\n",
       "dtype: int64"
      ]
     },
     "execution_count": 69,
     "metadata": {},
     "output_type": "execute_result"
    }
   ],
   "source": [
    "df.isnull().sum()"
   ]
  },
  {
   "cell_type": "code",
   "execution_count": 70,
   "id": "5cf997e3",
   "metadata": {},
   "outputs": [
    {
     "data": {
      "text/plain": [
       "0"
      ]
     },
     "execution_count": 70,
     "metadata": {},
     "output_type": "execute_result"
    }
   ],
   "source": [
    "df.duplicated().sum()"
   ]
  },
  {
   "cell_type": "code",
   "execution_count": 71,
   "id": "aee83e5a",
   "metadata": {},
   "outputs": [],
   "source": [
    "df.to_csv('Data_Analysis_Competishun.csv')"
   ]
  },
  {
   "cell_type": "code",
   "execution_count": null,
   "id": "84d2bbc7",
   "metadata": {},
   "outputs": [],
   "source": []
  },
  {
   "cell_type": "code",
   "execution_count": null,
   "id": "dfa795c0",
   "metadata": {},
   "outputs": [],
   "source": []
  },
  {
   "cell_type": "code",
   "execution_count": null,
   "id": "2702086b",
   "metadata": {},
   "outputs": [],
   "source": []
  },
  {
   "cell_type": "code",
   "execution_count": null,
   "id": "43a1550f",
   "metadata": {},
   "outputs": [],
   "source": []
  }
 ],
 "metadata": {
  "kernelspec": {
   "display_name": "Python 3 (ipykernel)",
   "language": "python",
   "name": "python3"
  },
  "language_info": {
   "codemirror_mode": {
    "name": "ipython",
    "version": 3
   },
   "file_extension": ".py",
   "mimetype": "text/x-python",
   "name": "python",
   "nbconvert_exporter": "python",
   "pygments_lexer": "ipython3",
   "version": "3.11.3"
  }
 },
 "nbformat": 4,
 "nbformat_minor": 5
}
